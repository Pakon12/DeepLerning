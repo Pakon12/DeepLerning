{
  "nbformat": 4,
  "nbformat_minor": 0,
  "metadata": {
    "colab": {
      "provenance": []
    },
    "kernelspec": {
      "name": "python3",
      "display_name": "Python 3"
    },
    "language_info": {
      "name": "python"
    }
  },
  "cells": [
    {
      "cell_type": "markdown",
      "source": [
        "#:ทดสอบเชื่อมต่อ **Feedforward Backpropagation** และใช้Activation function รวมกับ Optimizer และ L1-L2 regularization\n",
        "#วันที่ 18/07/2023\n",
        "# ฝึกทำโดย ***หยางคุณ***"
      ],
      "metadata": {
        "id": "RrJ7Uc4B_Y5E"
      }
    },
    {
      "cell_type": "code",
      "execution_count": 28,
      "metadata": {
        "id": "bwevTQ21EfhT"
      },
      "outputs": [],
      "source": [
        "import numpy as np\n",
        "\n",
        "class FFBP:\n",
        "    def __init__(self, learning_rate=0.001, num_epochs=30, batch_size=64, hidden_units=256, l1=0.0, l2=0.0):\n",
        "        # Convert target variable to one-hot encoding ค่าตัวแปรเป้าหมายที่เป็นหมายเลขหรือประเภทหนึ่งให้เป็นรหัสแบบทวิตแบบเวกเตอร์\n",
        "        self.num_classes = 10\n",
        "\n",
        "        # กำหนดค่าและปรับเพื่อปรับปรุงประสิทธิภาพของการเรียนรู้ของระบบ  Set hyperparameters\n",
        "        self.learning_rate = learning_rate\n",
        "        self.num_epochs = num_epochs\n",
        "        self.batch_size = batch_size\n",
        "        self.hidden_units = hidden_units\n",
        "        self.l1 = l1\n",
        "        self.l2 = l2\n",
        "        self.beta1 = 0.9\n",
        "        self.beta2 = 0.999\n",
        "        self.epsilon = 1e-8\n",
        "\n",
        "        # กำหนดค่าเริ่มต้น Initialize weights and biases\n",
        "        np.random.seed(0)\n",
        "        self.W1 = None #จุดนี้แสดงให้เห็นว่าตัวแปรถูกกำหนดค่าเริ่มต้นเป็น None ซึ่งหมายถึงว่ายังไม่มีค่าใดๆ ให้กับตัวแปรนี้\n",
        "        self.b1 = None\n",
        "        self.W2 = None\n",
        "        self.b2 = None\n",
        "\n",
        "        # กำหนดค่าเริ่มต้น Initialize Adam parameters\n",
        "        self.mW1 = None #จุดนี้แสดงให้เห็นว่าตัวแปรถูกกำหนดค่าเริ่มต้นเป็น None ซึ่งหมายถึงว่ายังไม่มีค่าใดๆ ให้กับตัวแปรนี้\n",
        "        self.mb1 = None\n",
        "        self.mW2 = None\n",
        "        self.mb2 = None\n",
        "        self.vW1 = None\n",
        "        self.vb1 = None\n",
        "        self.vW2 = None\n",
        "        self.vb2 = None\n",
        "\n",
        "        self.loss = []\n",
        "\n",
        "    # Activation function\n",
        "    def relu(self, x):\n",
        "        return np.maximum(0, x)\n",
        "\n",
        "    def softmax(self, x):\n",
        "        exps = np.exp(x - np.max(x, axis=1, keepdims=True))\n",
        "        return exps / np.sum(exps, axis=1, keepdims=True)\n",
        "\n",
        "    # function ที่ปรับค่า weights and biases Optimizer parameters\n",
        "    def adam(self):\n",
        "        self.mW2 = self.beta1 * self.mW2 + (1 - self.beta1) * self.grad_W2\n",
        "        self.mb2 = self.beta1 * self.mb2 + (1 - self.beta1) * self.grad_b2\n",
        "        self.mW1 = self.beta1 * self.mW1 + (1 - self.beta1) * self.grad_W1\n",
        "        self.mb1 = self.beta1 * self.mb1 + (1 - self.beta1) * self.grad_b1\n",
        "\n",
        "        self.vW2 = self.beta2 * self.vW2 + (1 - self.beta2) * np.square(self.grad_W2)\n",
        "        self.vb2 = self.beta2 * self.vb2 + (1 - self.beta2) * np.square(self.grad_b2)\n",
        "        self.vW1 = self.beta2 * self.vW1 + (1 - self.beta2) * np.square(self.grad_W1)\n",
        "        self.vb1 = self.beta2 * self.vb1 + (1 - self.beta2) * np.square(self.grad_b1)\n",
        "\n",
        "        mW2_hat = self.mW2 / (1 - self.beta1 ** (self.epoch + 1))\n",
        "        mb2_hat = self.mb2 / (1 - self.beta1 ** (self.epoch + 1))\n",
        "        mW1_hat = self.mW1 / (1 - self.beta1 ** (self.epoch + 1))\n",
        "        mb1_hat = self.mb1 / (1 - self.beta1 ** (self.epoch + 1))\n",
        "\n",
        "        vW2_hat = self.vW2 / (1 - self.beta2 ** (self.epoch + 1))\n",
        "        vb2_hat = self.vb2 / (1 - self.beta2 ** (self.epoch + 1))\n",
        "        vW1_hat = self.vW1 / (1 - self.beta2 ** (self.epoch + 1))\n",
        "        vb1_hat = self.vb1 / (1 - self.beta2 ** (self.epoch + 1))\n",
        "\n",
        "        self.W2 -= self.learning_rate * mW2_hat / (np.sqrt(vW2_hat) + self.epsilon)\n",
        "        self.b2 -= self.learning_rate * mb2_hat / (np.sqrt(vb2_hat) + self.epsilon)\n",
        "        self.W1 -= self.learning_rate * mW1_hat / (np.sqrt(vW1_hat) + self.epsilon)\n",
        "        self.b1 -= self.learning_rate * mb1_hat / (np.sqrt(vb1_hat) + self.epsilon)\n",
        "\n",
        "    def rmsprop(self):\n",
        "        self.vW2 = self.beta1 * self.vW2 + (1 - self.beta1) * np.square(self.grad_W2)\n",
        "        self.vb2 = self.beta1 * self.vb2 + (1 - self.beta1) * np.square(self.grad_b2)\n",
        "        self.vW1 = self.beta1 * self.vW1 + (1 - self.beta1) * np.square(self.grad_W1)\n",
        "        self.vb1 = self.beta1 * self.vb1 + (1 - self.beta1) * np.square(self.grad_b1)\n",
        "\n",
        "        self.W2 -= self.learning_rate * self.grad_W2 / (np.sqrt(self.vW2) + self.epsilon)\n",
        "        self.b2 -= self.learning_rate * self.grad_b2 / (np.sqrt(self.vb2) + self.epsilon)\n",
        "        self.W1 -= self.learning_rate * self.grad_W1 / (np.sqrt(self.vW1) + self.epsilon)\n",
        "        self.b1 -= self.learning_rate * self.grad_b1 / (np.sqrt(self.vb1) + self.epsilon)\n",
        "\n",
        "\n",
        "    # fit เป็นเมธอดที่ใช้ในการฝึก (train) โมเดลเครื่องมือการเรียนรู้ (machine learning)\n",
        "    def fit(self, X_train, y_train, X_test, y_test, adam=False, rmsprop=False):\n",
        "        self.num_classes = np.max(y_train) + 1\n",
        "        self.y_train_encoded = np.eye(self.num_classes)[y_train]\n",
        "\n",
        "        # กำหนดค่าในการเริ้มปับค่า Initialize weights and biases\n",
        "        input_size = X_train.shape[1]\n",
        "        output_size = self.num_classes\n",
        "        self.W1 = np.random.randn(input_size, self.hidden_units)\n",
        "        self.b1 = np.zeros(self.hidden_units)\n",
        "        self.W2 = np.random.randn(self.hidden_units, output_size)\n",
        "        self.b2 = np.zeros(output_size)\n",
        "\n",
        "        # กำหนดค่าในการเริ่มปรับแต่งค่า Initialize Adam parameters\n",
        "        self.mW1 = np.zeros_like(self.W1) # คือการสร้างตัวแปร mW1 ที่มีค่าเป็นศูนย์ (zeros) และมีขนาดเท่ากับตัวแปร W1 โดยใช้ฟังก์ชัน np.zeros_like() ในการสร้างตัวแปรใหม่ที่มีค่าเป็นศูนย์และมีขนาดเท่ากับตัวแปรที่กำหนดให้เป็นพารามิเตอร์\n",
        "        self.mb1 = np.zeros_like(self.b1) # คือการสร้างตัวแปร mฺb1 ที่มีค่าเป็นศูนย์ (zeros) และมีขนาดเท่ากับตัวแปร b1 โดยใช้ฟังก์ชัน np.zeros_like() ในการสร้างตัวแปรใหม่ที่มีค่าเป็นศูนย์และมีขนาดเท่ากับตัวแปรที่กำหนดให้เป็นพารามิเตอร์\n",
        "        self.mW2 = np.zeros_like(self.W2)\n",
        "        self.mb2 = np.zeros_like(self.b2)\n",
        "        self.vW1 = np.zeros_like(self.W1)\n",
        "        self.vb1 = np.zeros_like(self.b1)\n",
        "        self.vW2 = np.zeros_like(self.W2)\n",
        "        self.vb2 = np.zeros_like(self.b2)\n",
        "\n",
        "        # ลูปในการ Training loop\n",
        "        for epoch in range(self.num_epochs):\n",
        "            # Shuffle the data การ Shuffle ข้อมูลหมายถึงกระบวนการสลับลำดับข้อมูลในชุดข้อมูล\n",
        "            indices = np.random.permutation(X_train.shape[0])\n",
        "            X_train = X_train[indices]\n",
        "            self.y_train_encoded = self.y_train_encoded[indices]\n",
        "\n",
        "            # Mini-batch gradient descent คือแนวคิดในการอัปเดตพารามิเตอร์ของโมเดลในขั้นตอนการฝึก (training) โดยแบ่งชุดข้อมูลฝึกออกเป็นส่วนย่อยๆ\n",
        "            num_batches = X_train.shape[0] // self.batch_size\n",
        "            for batch in range(num_batches):\n",
        "                # Extract mini-batch หมายถึงกระบวนการสกัดชุดข้อมูลย่อย (mini-batch) จากชุดข้อมูลทั้งหมด เพื่อนำไปใช้ในกระบวนการฝึกโมเดล\n",
        "                start = batch * self.batch_size\n",
        "                end = start + self.batch_size\n",
        "                X_batch = X_train[start:end]\n",
        "                y_batch = self.y_train_encoded[start:end]\n",
        "\n",
        "                # Forward propagation หมายถึงกระบวนการทำนายผลลัพธ์ของโมเดลจากข้อมูลนำเข้า (input) ไปยังข้อมูลผลลัพธ์ (output) โดยผ่านชั้นของโครงข่ายประสาทเทียม (neural network) ตามลำดับ\n",
        "                z1 = np.dot(X_batch, self.W1) + self.b1\n",
        "                a1 = self.relu(z1)\n",
        "                z2 = np.dot(a1, self.W2) + self.b2\n",
        "                output = self.softmax(z2)\n",
        "\n",
        "                # Backpropagation  \"การถอดรหัสย้อนกลับ\" เป็นกระบวนการในการคำนวณค่าเกรดของพารามิเตอร์ (weights) และปรับค่าพารามิเตอร์เหล่านั้นให้เหมาะสมในโครงข่ายประสาทเทียม (neural network) เพื่อให้โมเดลทำนายผลลัพธ์ที่ถูกต้องมากขึ้น\n",
        "                delta2 = output - y_batch\n",
        "                delta1 = np.dot(delta2, self.W2.T) * (a1 > 0)\n",
        "\n",
        "                # Compute gradients คำนวณค่าเกรด (gradient) ของพารามิเตอร์โครงข่ายประสาทเทียม (neural network) ในแต่ละชั้น เพื่อใช้ในกระบวนการปรับค่าพารามิเตอร์ให้เหมาะสมในการฝึกสอน (training) และทำนายผลลัพธ์ที่ถูกต้องมากขึ้น\n",
        "                grad_W2 = np.dot(a1.T, delta2)\n",
        "                grad_b2 = np.sum(delta2, axis=0)\n",
        "                grad_W1 = np.dot(X_batch.T, delta1)\n",
        "                grad_b1 = np.sum(delta1, axis=0)\n",
        "\n",
        "                # Add L1 and L2 regularization to gradients ป็นกระบวนการเพื่อลด overfitting และเพิ่มประสิทธิภาพของโมเดลในการฝึกสอน (training)\n",
        "                grad_W2 += self.l1 * np.sign(self.W2) + self.l2 * self.W2\n",
        "                grad_W1 += self.l1 * np.sign(self.W1) + self.l2 * self.W1\n",
        "\n",
        "                self.grad_W2 = grad_W2\n",
        "                self.grad_b2 = grad_b2\n",
        "                self.grad_W1 = grad_W1\n",
        "                self.grad_b1 = grad_b1\n",
        "                self.epoch = epoch\n",
        "\n",
        "                if adam:\n",
        "                    # Update parameters with Adam ปรับค่าด้วย adam optimizer\n",
        "                    self.adam()\n",
        "\n",
        "                if rmsprop:\n",
        "                    # Update parameters with RMSProp ปรับค่าด้วย RMSProp optimizer\n",
        "                    self.rmsprop()\n",
        "\n",
        "            # Evaluate accuracy on test set การประเมินความแม่นยำ (accuracy) บนชุดข้อมูลทดสอบ (test set) เป็นกระบวนการที่ใช้โมเดลที่ฝึกสอนแล้วในการทำนายผลลัพธ์บนชุดข้อมูลทดสอบ เพื่อวัดประสิทธิภาพของโมเดลที่ฝึกสอน\n",
        "            z1 = np.dot(X_test, self.W1) + self.b1\n",
        "            a1 = self.relu(z1)\n",
        "            z2 = np.dot(a1, self.W2) + self.b2\n",
        "            output = self.softmax(z2)\n",
        "            y_pred = np.argmax(output, axis=1)\n",
        "            accuracy = np.mean(y_pred == y_test)\n",
        "            print(f\"Epoch {epoch + 1} Accuracy: {accuracy:.4f}\")\n",
        "\n",
        "    #เป็นกระบวนการใช้โมเดลที่ฝึกสอนแล้วในการทำนายผลลัพธ์หรือค่าเป้าหมายของข้อมูลใหม่ที่ไม่เคยเห็นมาก่อน\n",
        "    def predict(self, X):\n",
        "        z1 = np.dot(X, self.W1) + self.b1\n",
        "        a1 = self.relu(z1)\n",
        "        z2 = np.dot(a1, self.W2) + self.b2\n",
        "        output = self.softmax(z2)\n",
        "        return np.argmax(output, axis=1)\n"
      ]
    },
    {
      "cell_type": "code",
      "source": [
        "import matplotlib.pyplot as plt\n",
        "from tensorflow.keras.datasets import mnist\n",
        "\n",
        "# โหลดข้อมูล MNIST dataset\n",
        "(X_train, y_train), (X_test, y_test) = mnist.load_data()\n",
        "\n",
        "X_train = X_train / 255.0 # การทำการปรับค่าข้อมูลในชุดข้อมูล X_train เพื่อทำให้ค่าข้อมูลอยู่ในช่วงระหว่าง 0 ถึง 1 หรือในรูปแบบที่สามารถจัดการได้ง่ายกับโมเดลการเรียนรู้เชิงลึก (Deep Learning)\n",
        "X_test = X_test / 255.0\n",
        "\n",
        "X_train = X_train.reshape(60000, 784)\n",
        "X_test = X_test.reshape(10000, 784)"
      ],
      "metadata": {
        "id": "QTteK9y9IWCO"
      },
      "execution_count": 6,
      "outputs": []
    },
    {
      "cell_type": "code",
      "source": [
        "#เริ่มทำการ train model แบบใช้ adam Optimizer\n",
        "model = FFBP()\n",
        "model.fit(X_train=X_train, y_train=y_train, X_test=X_test, y_test=y_test,adam=True)"
      ],
      "metadata": {
        "colab": {
          "base_uri": "https://localhost:8080/"
        },
        "id": "GwUPBn15Gn94",
        "outputId": "6ac9238a-e329-42a0-cc5e-f69557dcd2ca"
      },
      "execution_count": 29,
      "outputs": [
        {
          "output_type": "stream",
          "name": "stdout",
          "text": [
            "Epoch 1 Accuracy: 0.8511\n",
            "Epoch 2 Accuracy: 0.8745\n",
            "Epoch 3 Accuracy: 0.8854\n",
            "Epoch 4 Accuracy: 0.8935\n",
            "Epoch 5 Accuracy: 0.8986\n",
            "Epoch 6 Accuracy: 0.9048\n",
            "Epoch 7 Accuracy: 0.9063\n",
            "Epoch 8 Accuracy: 0.9110\n",
            "Epoch 9 Accuracy: 0.9126\n",
            "Epoch 10 Accuracy: 0.9143\n",
            "Epoch 11 Accuracy: 0.9180\n",
            "Epoch 12 Accuracy: 0.9204\n",
            "Epoch 13 Accuracy: 0.9217\n",
            "Epoch 14 Accuracy: 0.9218\n",
            "Epoch 15 Accuracy: 0.9232\n",
            "Epoch 16 Accuracy: 0.9245\n",
            "Epoch 17 Accuracy: 0.9258\n",
            "Epoch 18 Accuracy: 0.9259\n",
            "Epoch 19 Accuracy: 0.9271\n",
            "Epoch 20 Accuracy: 0.9284\n",
            "Epoch 21 Accuracy: 0.9290\n",
            "Epoch 22 Accuracy: 0.9302\n",
            "Epoch 23 Accuracy: 0.9311\n",
            "Epoch 24 Accuracy: 0.9317\n",
            "Epoch 25 Accuracy: 0.9318\n",
            "Epoch 26 Accuracy: 0.9326\n",
            "Epoch 27 Accuracy: 0.9337\n",
            "Epoch 28 Accuracy: 0.9342\n",
            "Epoch 29 Accuracy: 0.9339\n",
            "Epoch 30 Accuracy: 0.9333\n"
          ]
        }
      ]
    },
    {
      "cell_type": "code",
      "source": [
        "#เริ่มทำการ train model แบบใช้ RMSprop Optimizer\n",
        "model = FFBP()\n",
        "model.fit(X_train=X_train, y_train=y_train, X_test=X_test, y_test=y_test,rmsprop=True)"
      ],
      "metadata": {
        "colab": {
          "base_uri": "https://localhost:8080/"
        },
        "id": "FXxj8jLXsj-E",
        "outputId": "2ad57729-ad26-42ae-c310-ac8a0abb6f78"
      },
      "execution_count": 30,
      "outputs": [
        {
          "output_type": "stream",
          "name": "stdout",
          "text": [
            "Epoch 1 Accuracy: 0.8847\n",
            "Epoch 2 Accuracy: 0.9089\n",
            "Epoch 3 Accuracy: 0.9215\n",
            "Epoch 4 Accuracy: 0.9265\n",
            "Epoch 5 Accuracy: 0.9328\n",
            "Epoch 6 Accuracy: 0.9377\n",
            "Epoch 7 Accuracy: 0.9415\n",
            "Epoch 8 Accuracy: 0.9447\n",
            "Epoch 9 Accuracy: 0.9442\n",
            "Epoch 10 Accuracy: 0.9459\n",
            "Epoch 11 Accuracy: 0.9487\n",
            "Epoch 12 Accuracy: 0.9475\n",
            "Epoch 13 Accuracy: 0.9501\n",
            "Epoch 14 Accuracy: 0.9491\n",
            "Epoch 15 Accuracy: 0.9496\n",
            "Epoch 16 Accuracy: 0.9527\n",
            "Epoch 17 Accuracy: 0.9536\n",
            "Epoch 18 Accuracy: 0.9544\n",
            "Epoch 19 Accuracy: 0.9534\n",
            "Epoch 20 Accuracy: 0.9547\n",
            "Epoch 21 Accuracy: 0.9519\n",
            "Epoch 22 Accuracy: 0.9549\n",
            "Epoch 23 Accuracy: 0.9540\n",
            "Epoch 24 Accuracy: 0.9515\n",
            "Epoch 25 Accuracy: 0.9545\n",
            "Epoch 26 Accuracy: 0.9556\n",
            "Epoch 27 Accuracy: 0.9544\n",
            "Epoch 28 Accuracy: 0.9554\n",
            "Epoch 29 Accuracy: 0.9542\n",
            "Epoch 30 Accuracy: 0.9566\n"
          ]
        }
      ]
    },
    {
      "cell_type": "code",
      "source": [
        "import matplotlib.pyplot as plt\n",
        "\n",
        "predictions = model.predict(X_test) #คือการทำนายผลลัพธ์โดยใช้โมเดลที่ถูกฝึกสอนด้วยข้อมูลฝึกสอน เมื่อให้โมเดลรับข้อมูลทดสอบ\n",
        "\n",
        "image = np.reshape(X_test[0], (28, 28)) #เพื่อทำการแปลงข้อมูลรูปภาพของตัวอย่างแรกใน X_test ให้อยู่ในรูปแบบของภาพที่มีขนาด 28x28 pixels\n",
        "\n",
        "plt.imshow(image, cmap='gray') #สำหรับแสดงรูปภาพที่ได้จากข้อมูล image โดยใช้คำสั่ง imshow โดยกำหนด cmap='gray' เพื่อให้แสดงผลเป็นสีเทา\n",
        "plt.title(f\"Label: {predictions[0]}\") #สำหรับแสดงรูปภาพที่ได้จากข้อมูล image โดยใช้คำสั่ง imshow โดยกำหนด cmap='gray' เพื่อให้แสดงผลเป็นสีเทา\n",
        "plt.show() #ใช้สำหรับแสดงกราฟที่ถูกสร้างขึ้นด้วยคำสั่งก่อนหน้านี้\n"
      ],
      "metadata": {
        "colab": {
          "base_uri": "https://localhost:8080/",
          "height": 452
        },
        "id": "DaZYo_z7IAIv",
        "outputId": "6fae69f9-cc13-4262-c322-826684a0d7a9"
      },
      "execution_count": 17,
      "outputs": [
        {
          "output_type": "display_data",
          "data": {
            "text/plain": [
              "<Figure size 640x480 with 1 Axes>"
            ],
            "image/png": "[encoded data removed]"
          },
          "metadata": {}
        }
      ]
    }
  ]
}